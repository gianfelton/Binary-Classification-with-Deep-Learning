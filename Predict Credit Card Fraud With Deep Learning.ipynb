{
 "cells": [
  {
   "cell_type": "code",
   "execution_count": 1,
   "metadata": {},
   "outputs": [
    {
     "name": "stderr",
     "output_type": "stream",
     "text": [
      "C:\\Users\\Grego\\Anaconda3\\lib\\site-packages\\h5py\\__init__.py:72: UserWarning: h5py is running against HDF5 1.10.2 when it was built against 1.10.3, this may cause problems\n",
      "  '{0}.{1}.{2}'.format(*version.hdf5_built_version_tuple)\n",
      "Using TensorFlow backend.\n"
     ]
    }
   ],
   "source": [
    "import numpy as np\n",
    "import pandas as pd\n",
    "from imblearn.over_sampling import SMOTE\n",
    "from sklearn.model_selection import train_test_split\n",
    "from sklearn.preprocessing import StandardScaler\n",
    "import keras\n",
    "from keras.models import Sequential\n",
    "from keras.layers import Dense\n",
    "from keras.layers import Dropout\n",
    "from keras.wrappers.scikit_learn import KerasClassifier\n",
    "from sklearn.model_selection import cross_val_score\n",
    "from sklearn.metrics import confusion_matrix\n",
    "from sklearn.metrics import accuracy_score\n",
    "from sklearn.metrics import classification_report\n",
    "from sklearn.model_selection import GridSearchCV\n",
    "import matplotlib.pyplot as plt\n",
    "%matplotlib inline\n",
    "import warnings\n",
    "warnings.filterwarnings(\"ignore\")"
   ]
  },
  {
   "cell_type": "code",
   "execution_count": 2,
   "metadata": {},
   "outputs": [],
   "source": [
    "df = pd.read_csv('creditcard.csv')"
   ]
  },
  {
   "cell_type": "code",
   "execution_count": 3,
   "metadata": {},
   "outputs": [
    {
     "data": {
      "text/html": [
       "<div>\n",
       "<style scoped>\n",
       "    .dataframe tbody tr th:only-of-type {\n",
       "        vertical-align: middle;\n",
       "    }\n",
       "\n",
       "    .dataframe tbody tr th {\n",
       "        vertical-align: top;\n",
       "    }\n",
       "\n",
       "    .dataframe thead th {\n",
       "        text-align: right;\n",
       "    }\n",
       "</style>\n",
       "<table border=\"1\" class=\"dataframe\">\n",
       "  <thead>\n",
       "    <tr style=\"text-align: right;\">\n",
       "      <th></th>\n",
       "      <th>Time</th>\n",
       "      <th>V1</th>\n",
       "      <th>V2</th>\n",
       "      <th>V3</th>\n",
       "      <th>V4</th>\n",
       "      <th>V5</th>\n",
       "      <th>V6</th>\n",
       "      <th>V7</th>\n",
       "      <th>V8</th>\n",
       "      <th>V9</th>\n",
       "      <th>...</th>\n",
       "      <th>V21</th>\n",
       "      <th>V22</th>\n",
       "      <th>V23</th>\n",
       "      <th>V24</th>\n",
       "      <th>V25</th>\n",
       "      <th>V26</th>\n",
       "      <th>V27</th>\n",
       "      <th>V28</th>\n",
       "      <th>Amount</th>\n",
       "      <th>Class</th>\n",
       "    </tr>\n",
       "  </thead>\n",
       "  <tbody>\n",
       "    <tr>\n",
       "      <th>0</th>\n",
       "      <td>0.0</td>\n",
       "      <td>-1.359807</td>\n",
       "      <td>-0.072781</td>\n",
       "      <td>2.536347</td>\n",
       "      <td>1.378155</td>\n",
       "      <td>-0.338321</td>\n",
       "      <td>0.462388</td>\n",
       "      <td>0.239599</td>\n",
       "      <td>0.098698</td>\n",
       "      <td>0.363787</td>\n",
       "      <td>...</td>\n",
       "      <td>-0.018307</td>\n",
       "      <td>0.277838</td>\n",
       "      <td>-0.110474</td>\n",
       "      <td>0.066928</td>\n",
       "      <td>0.128539</td>\n",
       "      <td>-0.189115</td>\n",
       "      <td>0.133558</td>\n",
       "      <td>-0.021053</td>\n",
       "      <td>149.62</td>\n",
       "      <td>0</td>\n",
       "    </tr>\n",
       "    <tr>\n",
       "      <th>1</th>\n",
       "      <td>0.0</td>\n",
       "      <td>1.191857</td>\n",
       "      <td>0.266151</td>\n",
       "      <td>0.166480</td>\n",
       "      <td>0.448154</td>\n",
       "      <td>0.060018</td>\n",
       "      <td>-0.082361</td>\n",
       "      <td>-0.078803</td>\n",
       "      <td>0.085102</td>\n",
       "      <td>-0.255425</td>\n",
       "      <td>...</td>\n",
       "      <td>-0.225775</td>\n",
       "      <td>-0.638672</td>\n",
       "      <td>0.101288</td>\n",
       "      <td>-0.339846</td>\n",
       "      <td>0.167170</td>\n",
       "      <td>0.125895</td>\n",
       "      <td>-0.008983</td>\n",
       "      <td>0.014724</td>\n",
       "      <td>2.69</td>\n",
       "      <td>0</td>\n",
       "    </tr>\n",
       "  </tbody>\n",
       "</table>\n",
       "<p>2 rows × 31 columns</p>\n",
       "</div>"
      ],
      "text/plain": [
       "   Time        V1        V2        V3        V4        V5        V6        V7  \\\n",
       "0   0.0 -1.359807 -0.072781  2.536347  1.378155 -0.338321  0.462388  0.239599   \n",
       "1   0.0  1.191857  0.266151  0.166480  0.448154  0.060018 -0.082361 -0.078803   \n",
       "\n",
       "         V8        V9  ...       V21       V22       V23       V24       V25  \\\n",
       "0  0.098698  0.363787  ... -0.018307  0.277838 -0.110474  0.066928  0.128539   \n",
       "1  0.085102 -0.255425  ... -0.225775 -0.638672  0.101288 -0.339846  0.167170   \n",
       "\n",
       "        V26       V27       V28  Amount  Class  \n",
       "0 -0.189115  0.133558 -0.021053  149.62      0  \n",
       "1  0.125895 -0.008983  0.014724    2.69      0  \n",
       "\n",
       "[2 rows x 31 columns]"
      ]
     },
     "execution_count": 3,
     "metadata": {},
     "output_type": "execute_result"
    }
   ],
   "source": [
    "df.head(2)"
   ]
  },
  {
   "cell_type": "code",
   "execution_count": 4,
   "metadata": {},
   "outputs": [
    {
     "data": {
      "text/plain": [
       "0    284315\n",
       "1       492\n",
       "Name: Class, dtype: int64"
      ]
     },
     "execution_count": 4,
     "metadata": {},
     "output_type": "execute_result"
    }
   ],
   "source": [
    "df.Class.value_counts()"
   ]
  },
  {
   "cell_type": "code",
   "execution_count": 5,
   "metadata": {},
   "outputs": [],
   "source": [
    "X = df.drop(['Class'],axis=1).values\n",
    "y = df['Class'].values"
   ]
  },
  {
   "cell_type": "code",
   "execution_count": 6,
   "metadata": {},
   "outputs": [],
   "source": [
    "X_train, X_test, y_train, y_test = train_test_split(X, y, test_size=0.3)"
   ]
  },
  {
   "cell_type": "code",
   "execution_count": 7,
   "metadata": {},
   "outputs": [],
   "source": [
    "smt = SMOTE()\n",
    "X_train, y_train = smt.fit_sample(X_train, y_train)"
   ]
  },
  {
   "cell_type": "code",
   "execution_count": 8,
   "metadata": {},
   "outputs": [],
   "source": [
    "sc = StandardScaler()\n",
    "X_train = sc.fit_transform(X_train)\n",
    "X_test = sc.transform(X_test)"
   ]
  },
  {
   "cell_type": "code",
   "execution_count": 24,
   "metadata": {},
   "outputs": [
    {
     "name": "stdout",
     "output_type": "stream",
     "text": [
      "Epoch 1/40\n",
      "398014/398014 [==============================] - 16s 39us/step - loss: 0.0564 - acc: 0.9793\n",
      "Epoch 2/40\n",
      "398014/398014 [==============================] - 14s 36us/step - loss: 0.0216 - acc: 0.9931\n",
      "Epoch 3/40\n",
      "398014/398014 [==============================] - 14s 36us/step - loss: 0.0138 - acc: 0.9962\n",
      "Epoch 4/40\n",
      "398014/398014 [==============================] - 15s 38us/step - loss: 0.0104 - acc: 0.9973\n",
      "Epoch 5/40\n",
      "398014/398014 [==============================] - 15s 38us/step - loss: 0.0084 - acc: 0.9979\n",
      "Epoch 6/40\n",
      "398014/398014 [==============================] - 15s 38us/step - loss: 0.0076 - acc: 0.9982\n",
      "Epoch 7/40\n",
      "398014/398014 [==============================] - 15s 39us/step - loss: 0.0068 - acc: 0.9985\n",
      "Epoch 8/40\n",
      "398014/398014 [==============================] - 15s 37us/step - loss: 0.0062 - acc: 0.9986\n",
      "Epoch 9/40\n",
      "398014/398014 [==============================] - 16s 40us/step - loss: 0.0059 - acc: 0.9987\n",
      "Epoch 10/40\n",
      "398014/398014 [==============================] - 15s 39us/step - loss: 0.0054 - acc: 0.9988\n",
      "Epoch 11/40\n",
      "398014/398014 [==============================] - 16s 39us/step - loss: 0.0051 - acc: 0.9990\n",
      "Epoch 12/40\n",
      "398014/398014 [==============================] - 15s 37us/step - loss: 0.0051 - acc: 0.9989\n",
      "Epoch 13/40\n",
      "398014/398014 [==============================] - 15s 37us/step - loss: 0.0048 - acc: 0.9990\n",
      "Epoch 14/40\n",
      "398014/398014 [==============================] - 16s 41us/step - loss: 0.0044 - acc: 0.9991\n",
      "Epoch 15/40\n",
      "398014/398014 [==============================] - 16s 40us/step - loss: 0.0043 - acc: 0.9992\n",
      "Epoch 16/40\n",
      "398014/398014 [==============================] - 16s 40us/step - loss: 0.0043 - acc: 0.9992\n",
      "Epoch 17/40\n",
      "398014/398014 [==============================] - 17s 41us/step - loss: 0.0041 - acc: 0.9993\n",
      "Epoch 18/40\n",
      "398014/398014 [==============================] - 16s 41us/step - loss: 0.0037 - acc: 0.9993\n",
      "Epoch 19/40\n",
      "398014/398014 [==============================] - 17s 43us/step - loss: 0.0039 - acc: 0.9993\n",
      "Epoch 20/40\n",
      "398014/398014 [==============================] - 13s 33us/step - loss: 0.0037 - acc: 0.9993\n",
      "Epoch 21/40\n",
      "398014/398014 [==============================] - 13s 34us/step - loss: 0.0036 - acc: 0.9994\n",
      "Epoch 22/40\n",
      "398014/398014 [==============================] - 13s 33us/step - loss: 0.0034 - acc: 0.9994\n",
      "Epoch 23/40\n",
      "398014/398014 [==============================] - 14s 34us/step - loss: 0.0036 - acc: 0.9994\n",
      "Epoch 24/40\n",
      "398014/398014 [==============================] - 14s 35us/step - loss: 0.0035 - acc: 0.9994\n",
      "Epoch 25/40\n",
      "398014/398014 [==============================] - 15s 37us/step - loss: 0.0035 - acc: 0.9993\n",
      "Epoch 26/40\n",
      "398014/398014 [==============================] - 16s 41us/step - loss: 0.0033 - acc: 0.9994\n",
      "Epoch 27/40\n",
      "398014/398014 [==============================] - 17s 44us/step - loss: 0.0037 - acc: 0.9994\n",
      "Epoch 28/40\n",
      "398014/398014 [==============================] - 17s 42us/step - loss: 0.0032 - acc: 0.9994\n",
      "Epoch 29/40\n",
      "398014/398014 [==============================] - 15s 38us/step - loss: 0.0034 - acc: 0.9994\n",
      "Epoch 30/40\n",
      "398014/398014 [==============================] - 16s 40us/step - loss: 0.0030 - acc: 0.9995\n",
      "Epoch 31/40\n",
      "398014/398014 [==============================] - 16s 40us/step - loss: 0.0030 - acc: 0.9995\n",
      "Epoch 32/40\n",
      "398014/398014 [==============================] - 17s 44us/step - loss: 0.0030 - acc: 0.9995\n",
      "Epoch 33/40\n",
      "398014/398014 [==============================] - 16s 40us/step - loss: 0.0029 - acc: 0.9995\n",
      "Epoch 34/40\n",
      "398014/398014 [==============================] - 13s 33us/step - loss: 0.0030 - acc: 0.9995\n",
      "Epoch 35/40\n",
      "398014/398014 [==============================] - 13s 34us/step - loss: 0.0029 - acc: 0.9995\n",
      "Epoch 36/40\n",
      "398014/398014 [==============================] - 13s 33us/step - loss: 0.0029 - acc: 0.9996\n",
      "Epoch 37/40\n",
      "398014/398014 [==============================] - 14s 34us/step - loss: 0.0029 - acc: 0.9995\n",
      "Epoch 38/40\n",
      "398014/398014 [==============================] - 15s 37us/step - loss: 0.0029 - acc: 0.9995\n",
      "Epoch 39/40\n",
      "398014/398014 [==============================] - 16s 40us/step - loss: 0.0027 - acc: 0.9996\n",
      "Epoch 40/40\n",
      "398014/398014 [==============================] - 14s 35us/step - loss: 0.0028 - acc: 0.9996\n"
     ]
    },
    {
     "data": {
      "text/plain": [
       "<keras.callbacks.History at 0x24388de6e10>"
      ]
     },
     "execution_count": 24,
     "metadata": {},
     "output_type": "execute_result"
    }
   ],
   "source": [
    "model = Sequential()\n",
    "\n",
    "model.add(Dense(50, kernel_initializer = \"uniform\",activation = \"relu\", input_dim=30))\n",
    "model.add(Dropout(rate = 0.1))\n",
    "model.add(Dense(1, kernel_initializer = \"uniform\",activation = \"sigmoid\"))\n",
    "model.compile(optimizer= \"adam\",loss = \"binary_crossentropy\",metrics = [\"accuracy\"])\n",
    "\n",
    "model.fit(X_train, y_train, batch_size = 36, epochs = 40)"
   ]
  },
  {
   "cell_type": "code",
   "execution_count": 25,
   "metadata": {},
   "outputs": [],
   "source": [
    "y_pred = model.predict(X_test)"
   ]
  },
  {
   "cell_type": "code",
   "execution_count": 26,
   "metadata": {},
   "outputs": [],
   "source": [
    "y_pred = (y_pred > 0.5)"
   ]
  },
  {
   "cell_type": "code",
   "execution_count": 27,
   "metadata": {},
   "outputs": [
    {
     "name": "stdout",
     "output_type": "stream",
     "text": [
      "[[85261    47]\n",
      " [   22   113]]\n"
     ]
    }
   ],
   "source": [
    "cm = confusion_matrix(y_test, y_pred)\n",
    "print(cm)"
   ]
  },
  {
   "cell_type": "code",
   "execution_count": 28,
   "metadata": {},
   "outputs": [
    {
     "name": "stdout",
     "output_type": "stream",
     "text": [
      "              precision    recall  f1-score   support\n",
      "\n",
      "           0       1.00      1.00      1.00     85308\n",
      "           1       0.71      0.84      0.77       135\n",
      "\n",
      "    accuracy                           1.00     85443\n",
      "   macro avg       0.85      0.92      0.88     85443\n",
      "weighted avg       1.00      1.00      1.00     85443\n",
      "\n"
     ]
    }
   ],
   "source": [
    "cr = classification_report(y_test, y_pred)\n",
    "print(cr)"
   ]
  },
  {
   "cell_type": "code",
   "execution_count": 14,
   "metadata": {},
   "outputs": [],
   "source": [
    "def create_model():\n",
    "    model = Sequential()\n",
    "    \n",
    "    model.add(Dense(50, kernel_initializer = \"uniform\",activation = \"relu\", input_dim=30))\n",
    "    model.add(Dropout(rate = 0.1))\n",
    "    model.add(Dense(1, kernel_initializer = \"uniform\",activation = \"sigmoid\"))\n",
    "    model.compile(optimizer= \"adam\",loss = \"binary_crossentropy\",metrics = [\"accuracy\"])\n",
    "    \n",
    "    return model"
   ]
  },
  {
   "cell_type": "code",
   "execution_count": 15,
   "metadata": {},
   "outputs": [],
   "source": [
    "model = KerasClassifier(build_fn=create_model, epochs=40, verbose=0)"
   ]
  },
  {
   "cell_type": "code",
   "execution_count": 16,
   "metadata": {},
   "outputs": [],
   "source": [
    "params = {\n",
    "    'batch_size':[33, 36]\n",
    "}"
   ]
  },
  {
   "cell_type": "code",
   "execution_count": 17,
   "metadata": {},
   "outputs": [],
   "source": [
    "grid = GridSearchCV(estimator=model, param_grid=params, n_jobs=-1)"
   ]
  },
  {
   "cell_type": "code",
   "execution_count": 18,
   "metadata": {},
   "outputs": [],
   "source": [
    "grid_result = grid.fit(X_train,y_train)"
   ]
  },
  {
   "cell_type": "code",
   "execution_count": 19,
   "metadata": {},
   "outputs": [],
   "source": [
    "best_param = grid_result.best_params_"
   ]
  },
  {
   "cell_type": "code",
   "execution_count": 20,
   "metadata": {},
   "outputs": [
    {
     "data": {
      "text/plain": [
       "{'batch_size': 36}"
      ]
     },
     "execution_count": 20,
     "metadata": {},
     "output_type": "execute_result"
    }
   ],
   "source": [
    "best_param"
   ]
  },
  {
   "cell_type": "code",
   "execution_count": 21,
   "metadata": {},
   "outputs": [
    {
     "data": {
      "text/plain": [
       "{'mean_fit_time': array([908.68625617, 584.81757887]),\n",
       " 'std_fit_time': array([  1.63645536, 185.63319497]),\n",
       " 'mean_score_time': array([5.37358077, 3.86842934]),\n",
       " 'std_score_time': array([0.50593579, 1.98703101]),\n",
       " 'param_batch_size': masked_array(data=[33, 36],\n",
       "              mask=[False, False],\n",
       "        fill_value='?',\n",
       "             dtype=object),\n",
       " 'params': [{'batch_size': 33}, {'batch_size': 36}],\n",
       " 'split0_test_score': array([0.99849252, 0.99874126]),\n",
       " 'split1_test_score': array([0.9996985 , 0.99966835]),\n",
       " 'split2_test_score': array([0.99973619, 1.        ]),\n",
       " 'mean_test_score': array([0.99930907, 0.99946987]),\n",
       " 'std_test_score': array([0.00057759, 0.0005327 ]),\n",
       " 'rank_test_score': array([2, 1])}"
      ]
     },
     "execution_count": 21,
     "metadata": {},
     "output_type": "execute_result"
    }
   ],
   "source": [
    "grid_result.cv_results_"
   ]
  },
  {
   "cell_type": "code",
   "execution_count": 22,
   "metadata": {},
   "outputs": [
    {
     "data": {
      "text/plain": [
       "0.9994698676413075"
      ]
     },
     "execution_count": 22,
     "metadata": {},
     "output_type": "execute_result"
    }
   ],
   "source": [
    "grid_result.best_score_"
   ]
  }
 ],
 "metadata": {
  "kernelspec": {
   "display_name": "Python 3",
   "language": "python",
   "name": "python3"
  },
  "language_info": {
   "codemirror_mode": {
    "name": "ipython",
    "version": 3
   },
   "file_extension": ".py",
   "mimetype": "text/x-python",
   "name": "python",
   "nbconvert_exporter": "python",
   "pygments_lexer": "ipython3",
   "version": "3.6.7"
  }
 },
 "nbformat": 4,
 "nbformat_minor": 2
}
